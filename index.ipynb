{
 "cells": [
  {
   "cell_type": "code",
   "execution_count": null,
   "id": "b9d784bf",
   "metadata": {},
   "outputs": [],
   "source": [
    "name= \"waji\"\n",
    "age = 23\n",
    "print (\"what your name {name} and whats your age {age}\")"
   ]
  }
 ],
 "metadata": {
  "language_info": {
   "name": "python"
  }
 },
 "nbformat": 4,
 "nbformat_minor": 5
}
